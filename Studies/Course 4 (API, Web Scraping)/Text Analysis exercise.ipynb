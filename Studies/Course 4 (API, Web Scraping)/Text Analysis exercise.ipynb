{
 "cells": [
  {
   "cell_type": "code",
   "execution_count": 25,
   "id": "ce143a10-3b5e-4004-b7fb-c84489fa1450",
   "metadata": {},
   "outputs": [],
   "source": [
    "givenstring=\"Lorem ipsum dolor! diam amet, consetetur Lorem magna. sed diam nonumy eirmod tempor. diam et labore? et diam magna. et diam amet.\""
   ]
  },
  {
   "cell_type": "code",
   "execution_count": 77,
   "id": "42d9752d-f778-4acb-9fdb-a905ebcd2138",
   "metadata": {},
   "outputs": [],
   "source": [
    "class TextAnalyzer(object):\n",
    "    def __init__(self, text):\n",
    "        formattedText = text.replace(\".\",\"\").replace(\"!\",\"\").replace(\"?\",\"\").replace(\",\",\"\")\n",
    "        formattedText = formattedText.lower()\n",
    "        self.fmtText = formattedText\n",
    "\n",
    "    #Count frequency of unique words\n",
    "    def freqAll(self):\n",
    "        #split text into words\n",
    "        words = self.fmtText.split(' ')\n",
    "        #Create dictionary to store the unique words\n",
    "        freqMap = {}\n",
    "        for word in set(words): # use set to remove duplicates in list\n",
    "            freqMap[word] = words.count(word)\n",
    "        return freqMap\n",
    "\n",
    "    def freqOf(self,word):\n",
    "        # get frequency map\n",
    "        freqDict = self.freqAll()\n",
    "        \n",
    "        if word in freqDict:\n",
    "            return freqDict[word]\n",
    "        else:\n",
    "            return 0"
   ]
  },
  {
   "cell_type": "code",
   "execution_count": 79,
   "id": "10f06843-0e11-4fd8-b290-27df942cb5c9",
   "metadata": {},
   "outputs": [
    {
     "name": "stdout",
     "output_type": "stream",
     "text": [
      "lorem ipsum dolor diam amet consetetur lorem magna sed diam nonumy eirmod tempor diam et labore et diam magna et diam amet\n"
     ]
    }
   ],
   "source": [
    "analyzed = TextAnalyzer(givenstring)\n",
    "print(analyzed.fmtText)"
   ]
  },
  {
   "cell_type": "code",
   "execution_count": 81,
   "id": "6959a56e-7372-4816-b746-4c533c882720",
   "metadata": {},
   "outputs": [
    {
     "name": "stdout",
     "output_type": "stream",
     "text": [
      "{'amet': 2, 'consetetur': 1, 'tempor': 1, 'labore': 1, 'dolor': 1, 'magna': 2, 'nonumy': 1, 'sed': 1, 'et': 3, 'lorem': 2, 'ipsum': 1, 'diam': 5, 'eirmod': 1}\n"
     ]
    }
   ],
   "source": [
    "freqMap = analyzed.freqAll()\n",
    "print(freqMap)"
   ]
  },
  {
   "cell_type": "code",
   "execution_count": 90,
   "id": "6c8b3315-953d-479e-86bd-8ed05ba906d2",
   "metadata": {},
   "outputs": [
    {
     "name": "stdout",
     "output_type": "stream",
     "text": [
      "The word lorem appears 2 times.\n"
     ]
    }
   ],
   "source": [
    "word = \"lorem\"\n",
    "frequency = analyzed.freqOf(word)\n",
    "print(\"The word\",word,\"appears\",frequency,\"times.\")"
   ]
  },
  {
   "cell_type": "code",
   "execution_count": 92,
   "id": "ecdd48f0-61ba-4696-ad63-fcd456034911",
   "metadata": {},
   "outputs": [
    {
     "name": "stdout",
     "output_type": "stream",
     "text": [
      "1 A\n",
      "2 B\n",
      "3 C\n"
     ]
    }
   ],
   "source": [
    "for i, x in enumerate(['A', 'B', 'C']): \n",
    "    print(i + 1, x)"
   ]
  },
  {
   "cell_type": "code",
   "execution_count": 94,
   "id": "9a3e99df-f801-443d-9edb-d3b006cc37ac",
   "metadata": {},
   "outputs": [
    {
     "name": "stdout",
     "output_type": "stream",
     "text": [
      "Error: Denominator cannot be 0.\n"
     ]
    }
   ],
   "source": [
    "try:\n",
    "    numerator = 10\n",
    "    denominator = 0\n",
    "    result = numerator / denominator\n",
    "    print(result)\n",
    "except ZeroDivisionError:\n",
    "    print(\"Error: Denominator cannot be 0.\")"
   ]
  },
  {
   "cell_type": "code",
   "execution_count": null,
   "id": "448f5a01-5876-4877-ac20-bb19cb9f94bd",
   "metadata": {},
   "outputs": [],
   "source": []
  }
 ],
 "metadata": {
  "kernelspec": {
   "display_name": "pandas_kernel",
   "language": "python",
   "name": "pandas_kernel"
  },
  "language_info": {
   "codemirror_mode": {
    "name": "ipython",
    "version": 3
   },
   "file_extension": ".py",
   "mimetype": "text/x-python",
   "name": "python",
   "nbconvert_exporter": "python",
   "pygments_lexer": "ipython3",
   "version": "3.12.5"
  }
 },
 "nbformat": 4,
 "nbformat_minor": 5
}
