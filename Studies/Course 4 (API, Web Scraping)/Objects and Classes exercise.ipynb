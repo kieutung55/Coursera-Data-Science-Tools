{
 "cells": [
  {
   "cell_type": "code",
   "execution_count": 7,
   "id": "35453730-4d98-4f3f-8c06-89effae4c727",
   "metadata": {},
   "outputs": [
    {
     "name": "stdout",
     "output_type": "stream",
     "text": [
      "Defaulting to user installation because normal site-packages is not writeableNote: you may need to restart the kernel to use updated packages.\n",
      "\n",
      "Requirement already satisfied: matplotlib in c:\\users\\admin\\appdata\\roaming\\python\\python312\\site-packages (3.10.0)\n",
      "Requirement already satisfied: contourpy>=1.0.1 in c:\\users\\admin\\appdata\\roaming\\python\\python312\\site-packages (from matplotlib) (1.3.1)\n",
      "Requirement already satisfied: cycler>=0.10 in c:\\users\\admin\\appdata\\roaming\\python\\python312\\site-packages (from matplotlib) (0.12.1)\n",
      "Requirement already satisfied: fonttools>=4.22.0 in c:\\users\\admin\\appdata\\roaming\\python\\python312\\site-packages (from matplotlib) (4.55.3)\n",
      "Requirement already satisfied: kiwisolver>=1.3.1 in c:\\users\\admin\\appdata\\roaming\\python\\python312\\site-packages (from matplotlib) (1.4.8)\n",
      "Requirement already satisfied: numpy>=1.23 in c:\\users\\admin\\appdata\\roaming\\python\\python312\\site-packages (from matplotlib) (2.1.0)\n",
      "Requirement already satisfied: packaging>=20.0 in c:\\users\\admin\\appdata\\roaming\\python\\python312\\site-packages (from matplotlib) (24.1)\n",
      "Requirement already satisfied: pillow>=8 in c:\\users\\admin\\appdata\\roaming\\python\\python312\\site-packages (from matplotlib) (11.1.0)\n",
      "Requirement already satisfied: pyparsing>=2.3.1 in c:\\users\\admin\\appdata\\roaming\\python\\python312\\site-packages (from matplotlib) (3.2.1)\n",
      "Requirement already satisfied: python-dateutil>=2.7 in c:\\users\\admin\\appdata\\roaming\\python\\python312\\site-packages (from matplotlib) (2.9.0.post0)\n",
      "Requirement already satisfied: six>=1.5 in c:\\users\\admin\\appdata\\roaming\\python\\python312\\site-packages (from python-dateutil>=2.7->matplotlib) (1.16.0)\n"
     ]
    },
    {
     "name": "stderr",
     "output_type": "stream",
     "text": [
      "\n",
      "[notice] A new release of pip is available: 24.2 -> 24.3.1\n",
      "[notice] To update, run: C:\\Program Files\\Python312\\python.exe -m pip install --upgrade pip\n"
     ]
    }
   ],
   "source": [
    "pip install --upgrade matplotlib"
   ]
  },
  {
   "cell_type": "code",
   "execution_count": 9,
   "id": "65636801-2a64-4f46-b39f-171d6779ba1f",
   "metadata": {},
   "outputs": [
    {
     "name": "stdout",
     "output_type": "stream",
     "text": [
      "Defaulting to user installation because normal site-packages is not writeable\n",
      "Requirement already satisfied: matplotlib in c:\\users\\admin\\appdata\\roaming\\python\\python312\\site-packages (3.10.0)\n",
      "Requirement already satisfied: contourpy>=1.0.1 in c:\\users\\admin\\appdata\\roaming\\python\\python312\\site-packages (from matplotlib) (1.3.1)\n",
      "Requirement already satisfied: cycler>=0.10 in c:\\users\\admin\\appdata\\roaming\\python\\python312\\site-packages (from matplotlib) (0.12.1)\n",
      "Requirement already satisfied: fonttools>=4.22.0 in c:\\users\\admin\\appdata\\roaming\\python\\python312\\site-packages (from matplotlib) (4.55.3)\n",
      "Requirement already satisfied: kiwisolver>=1.3.1 in c:\\users\\admin\\appdata\\roaming\\python\\python312\\site-packages (from matplotlib) (1.4.8)\n",
      "Requirement already satisfied: numpy>=1.23 in c:\\users\\admin\\appdata\\roaming\\python\\python312\\site-packages (from matplotlib) (2.1.0)\n",
      "Requirement already satisfied: packaging>=20.0 in c:\\users\\admin\\appdata\\roaming\\python\\python312\\site-packages (from matplotlib) (24.1)\n",
      "Requirement already satisfied: pillow>=8 in c:\\users\\admin\\appdata\\roaming\\python\\python312\\site-packages (from matplotlib) (11.1.0)\n",
      "Requirement already satisfied: pyparsing>=2.3.1 in c:\\users\\admin\\appdata\\roaming\\python\\python312\\site-packages (from matplotlib) (3.2.1)\n",
      "Requirement already satisfied: python-dateutil>=2.7 in c:\\users\\admin\\appdata\\roaming\\python\\python312\\site-packages (from matplotlib) (2.9.0.post0)\n",
      "Requirement already satisfied: six>=1.5 in c:\\users\\admin\\appdata\\roaming\\python\\python312\\site-packages (from python-dateutil>=2.7->matplotlib) (1.16.0)\n",
      "Note: you may need to restart the kernel to use updated packages.\n"
     ]
    },
    {
     "name": "stderr",
     "output_type": "stream",
     "text": [
      "\n",
      "[notice] A new release of pip is available: 24.2 -> 24.3.1\n",
      "[notice] To update, run: C:\\Program Files\\Python312\\python.exe -m pip install --upgrade pip\n"
     ]
    }
   ],
   "source": [
    "pip install matplotlib"
   ]
  },
  {
   "cell_type": "code",
   "execution_count": 11,
   "id": "68e0db99-9cc6-4b31-b0b8-578d5d61159f",
   "metadata": {},
   "outputs": [],
   "source": [
    "import matplotlib.pyplot as plt\n",
    "%matplotlib inline  "
   ]
  },
  {
   "cell_type": "code",
   "execution_count": 94,
   "id": "a30b6ccf-c79c-4e8c-aa2d-f28d4b1a86bd",
   "metadata": {},
   "outputs": [],
   "source": [
    "#Create a class circle\n",
    "\n",
    "class Circle(object):\n",
    "\n",
    "    #Constructor\n",
    "    def __init__ (self, radius = 3,color = 'blue'):\n",
    "        self.radius=radius\n",
    "        self.color=color\n",
    "    # Method\n",
    "    def add_radius(self,r):\n",
    "        self.radius= self.radius+r\n",
    "        return(self.radius)\n",
    "\n",
    "    #Method\n",
    "    def drawCircle(self):\n",
    "        plt.gca().add_patch (plt.Circle((0,0), radius = self.radius, fc=self.color))\n",
    "        plt.axis('scaled')\n",
    "        plt.show()"
   ]
  },
  {
   "cell_type": "code",
   "execution_count": 96,
   "id": "208ff19c-a3c5-4bf4-ac4c-17620d7b9a1d",
   "metadata": {},
   "outputs": [],
   "source": [
    "# Create an object RedCircle\n",
    "RedCircle = Circle(10,'Red')\n"
   ]
  },
  {
   "cell_type": "code",
   "execution_count": 98,
   "id": "8e6b093e-f9f9-464a-8589-0cd016087083",
   "metadata": {},
   "outputs": [
    {
     "data": {
      "text/plain": [
       "['__class__',\n",
       " '__delattr__',\n",
       " '__dict__',\n",
       " '__dir__',\n",
       " '__doc__',\n",
       " '__eq__',\n",
       " '__format__',\n",
       " '__ge__',\n",
       " '__getattribute__',\n",
       " '__getstate__',\n",
       " '__gt__',\n",
       " '__hash__',\n",
       " '__init__',\n",
       " '__init_subclass__',\n",
       " '__le__',\n",
       " '__lt__',\n",
       " '__module__',\n",
       " '__ne__',\n",
       " '__new__',\n",
       " '__reduce__',\n",
       " '__reduce_ex__',\n",
       " '__repr__',\n",
       " '__setattr__',\n",
       " '__sizeof__',\n",
       " '__str__',\n",
       " '__subclasshook__',\n",
       " '__weakref__',\n",
       " 'add_radius',\n",
       " 'color',\n",
       " 'drawCircle',\n",
       " 'radius']"
      ]
     },
     "execution_count": 98,
     "metadata": {},
     "output_type": "execute_result"
    }
   ],
   "source": [
    "#Use the dir command to get a list of the object's methods\n",
    "dir(RedCircle)"
   ]
  },
  {
   "cell_type": "code",
   "execution_count": 100,
   "id": "dc06422d-0ed5-4e03-8bac-4416bf80e691",
   "metadata": {},
   "outputs": [
    {
     "data": {
      "text/plain": [
       "10"
      ]
     },
     "execution_count": 100,
     "metadata": {},
     "output_type": "execute_result"
    }
   ],
   "source": [
    "#Find out RedCircle radius\n",
    "RedCircle.radius"
   ]
  },
  {
   "cell_type": "code",
   "execution_count": 102,
   "id": "4bbcf789-56e6-4520-aedc-ecdf71d7bfc3",
   "metadata": {},
   "outputs": [
    {
     "data": {
      "text/plain": [
       "'Red'"
      ]
     },
     "execution_count": 102,
     "metadata": {},
     "output_type": "execute_result"
    }
   ],
   "source": [
    "#Find out RedCircle color\n",
    "RedCircle.color"
   ]
  },
  {
   "cell_type": "code",
   "execution_count": 104,
   "id": "7d7813f4-8b4f-449e-be20-2af126e75139",
   "metadata": {},
   "outputs": [
    {
     "data": {
      "image/png": "[encoded data removed]",
      "text/plain": [
       "<Figure size 640x480 with 1 Axes>"
      ]
     },
     "metadata": {},
     "output_type": "display_data"
    }
   ],
   "source": [
    "#Draw the Circle\n",
    "RedCircle.drawCircle()"
   ]
  },
  {
   "cell_type": "code",
   "execution_count": 108,
   "id": "31066dbf-c418-49b5-87f2-e13515c82c26",
   "metadata": {},
   "outputs": [
    {
     "name": "stdout",
     "output_type": "stream",
     "text": [
      "14\n"
     ]
    }
   ],
   "source": [
    "#Increase the radius\n",
    "RedCircle.add_radius(2)\n",
    "print(RedCircle.radius)"
   ]
  },
  {
   "cell_type": "code",
   "execution_count": 118,
   "id": "80f7582d-f102-4236-863c-ff0b4afb4007",
   "metadata": {},
   "outputs": [],
   "source": [
    "#Create a blue Circle\n",
    "BlueCircle = Circle(100, 'Blue')\n"
   ]
  },
  {
   "cell_type": "code",
   "execution_count": 120,
   "id": "994c5c3e-584c-4fde-b25a-e8cc78f1b6a6",
   "metadata": {},
   "outputs": [
    {
     "data": {
      "image/png": "[encoded data removed]",
      "text/plain": [
       "<Figure size 640x480 with 1 Axes>"
      ]
     },
     "metadata": {},
     "output_type": "display_data"
    }
   ],
   "source": [
    "BlueCircle.drawCircle()"
   ]
  },
  {
   "cell_type": "code",
   "execution_count": 134,
   "id": "92e11698-ae03-46c6-b505-70c2ce6c2b7f",
   "metadata": {},
   "outputs": [],
   "source": [
    "#Create a class Rectangle\n",
    "class Rectangle(object):\n",
    "    def __init__(self, width, height, color='r'):\n",
    "        self.height = height\n",
    "        self.width = width\n",
    "        self.color= color\n",
    "\n",
    "    def drawRectangle(self):\n",
    "        plt.gca().add_patch(plt.Rectangle((0,0), width = self.width, height = self.height, fc=self.color))\n",
    "        plt.axis('scaled')\n",
    "        plt.show()"
   ]
  },
  {
   "cell_type": "code",
   "execution_count": 136,
   "id": "83cea402-97eb-4fb6-9992-0c41f5243142",
   "metadata": {},
   "outputs": [],
   "source": [
    "#Create a new rectangle object\n",
    "BlueRectangle = Rectangle(2,3,'blue')"
   ]
  },
  {
   "cell_type": "code",
   "execution_count": 138,
   "id": "8520457e-e229-46b2-9bb7-ebca41a4729c",
   "metadata": {},
   "outputs": [
    {
     "data": {
      "image/png": "[encoded data removed]",
      "text/plain": [
       "<Figure size 640x480 with 1 Axes>"
      ]
     },
     "metadata": {},
     "output_type": "display_data"
    }
   ],
   "source": [
    "#Draw the rectangle\n",
    "BlueRectangle.drawRectangle()"
   ]
  },
  {
   "cell_type": "code",
   "execution_count": 148,
   "id": "9c686032-5b3b-46db-ba02-4923fad00928",
   "metadata": {},
   "outputs": [],
   "source": [
    "#Create a new Rectangle\n",
    "YellowRectangle=Rectangle(10,5,'yellow')"
   ]
  },
  {
   "cell_type": "code",
   "execution_count": 150,
   "id": "7bff521d-6cc2-4afc-82aa-d5c9e5edbd7c",
   "metadata": {},
   "outputs": [
    {
     "data": {
      "image/png": "[encoded data removed]",
      "text/plain": [
       "<Figure size 640x480 with 1 Axes>"
      ]
     },
     "metadata": {},
     "output_type": "display_data"
    }
   ],
   "source": [
    "YellowRectangle.drawRectangle()"
   ]
  },
  {
   "cell_type": "code",
   "execution_count": 176,
   "id": "64191490-1c0e-456a-b68f-aa9b8664ee1e",
   "metadata": {},
   "outputs": [],
   "source": [
    "class Car:\n",
    "    color = \"white\"\n",
    "    def __init__ (self, mileage, speed):\n",
    "        self.mileage = mileage\n",
    "        self.speed = speed\n",
    "        self.capacity = None\n",
    "\n",
    "    def assign_capacity(self, capacity):\n",
    "        self.capacity = capacity\n",
    "\n",
    "    def display_properties(self):\n",
    "        print(\"Properties of the Vehicle:\")\n",
    "        print(\"Color:\", self.color)\n",
    "        print(\"Maximum Speed:\", self.speed)\n",
    "        print(\"Mileage:\", self.mileage)\n",
    "        print(\"Seating Capacity:\", self.capacity)"
   ]
  },
  {
   "cell_type": "code",
   "execution_count": 178,
   "id": "e78328ec-bc81-4318-992c-7b2fb1ad5869",
   "metadata": {},
   "outputs": [
    {
     "name": "stdout",
     "output_type": "stream",
     "text": [
      "Properties of the Vehicle:\n",
      "Color: white\n",
      "Maximum Speed: 200\n",
      "Mileage: 20\n",
      "Seating Capacity: 5\n"
     ]
    }
   ],
   "source": [
    "Car1 = Car(20, 200)\n",
    "Car1.assign_capacity(5)\n",
    "Car1.display_properties()"
   ]
  },
  {
   "cell_type": "code",
   "execution_count": 182,
   "id": "0a8c5511-6283-4b40-ae92-a8ccdb87ff2b",
   "metadata": {},
   "outputs": [
    {
     "name": "stdout",
     "output_type": "stream",
     "text": [
      "200\n"
     ]
    }
   ],
   "source": [
    "class Graph():\n",
    "    def __init__(self, id=80):\n",
    "        self.id = id\n",
    "        \n",
    "\n",
    "\n",
    "val = Graph(200)\n",
    "print(val.id)"
   ]
  },
  {
   "cell_type": "code",
   "execution_count": null,
   "id": "df3b1d63-93c6-4031-a784-531dd489ff33",
   "metadata": {},
   "outputs": [],
   "source": []
  }
 ],
 "metadata": {
  "kernelspec": {
   "display_name": "pandas_kernel",
   "language": "python",
   "name": "pandas_kernel"
  },
  "language_info": {
   "codemirror_mode": {
    "name": "ipython",
    "version": 3
   },
   "file_extension": ".py",
   "mimetype": "text/x-python",
   "name": "python",
   "nbconvert_exporter": "python",
   "pygments_lexer": "ipython3",
   "version": "3.12.5"
  }
 },
 "nbformat": 4,
 "nbformat_minor": 5
}
