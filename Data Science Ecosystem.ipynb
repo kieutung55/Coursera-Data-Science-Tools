{
 "cells": [
  {
   "cell_type": "markdown",
   "id": "687d76e7-cd52-40bb-adce-0e4cbd5cff48",
   "metadata": {},
   "source": [
    "<h1>Data Science Tools and Ecosystem</h1>"
   ]
  },
  {
   "cell_type": "markdown",
   "id": "21f7899b-fbf1-41e7-9173-b385b50cacca",
   "metadata": {},
   "source": [
    "In this notebook, Data Science Tools and Ecosystem are summarized.\n"
   ]
  },
  {
   "cell_type": "markdown",
   "id": "e5b16958-ee6c-48f1-bf6b-27245dbf32f0",
   "metadata": {},
   "source": [
    "<strong>Objectives:\n",
    "<ul>\n",
    "    <li>List of popular languages for Data Science</li>\n",
    "    <li>List of commonly used libraries used by Data Scientists</li>\n",
    "    <li>Convert minutes to hours</li>\n",
    "</ul>"
   ]
  },
  {
   "cell_type": "markdown",
   "id": "5a3f8362-784e-48b1-8105-d136c5119e08",
   "metadata": {},
   "source": [
    "Some of the popular languages that Data Scientists use are:\n",
    "<ol>\n",
    "    <li>Python</li>\n",
    "    <li>R</li>\n",
    "    <li>SQL</li>\n",
    "</ol>"
   ]
  },
  {
   "cell_type": "markdown",
   "id": "e2d35fd2-3787-4f47-8547-aeffbae856d7",
   "metadata": {},
   "source": [
    "Some of the commonly used libraries used by Data Scientists include:\n",
    "<ol>\n",
    "    <li>Matplotlib</li>\n",
    "    <li>NumPy</li>\n",
    "    <li>Pandas</li>\n",
    "</ol>"
   ]
  },
  {
   "cell_type": "markdown",
   "id": "c69bcfda-9f78-4ae0-ba14-de8daa13b181",
   "metadata": {},
   "source": [
    "<table>\r\n",
    "  <tr>\r\n",
    "    <th>Data Science Tools</th>\r\n",
    "  </tr>\r\n",
    "  <tr>\r\n",
    "    <td>Jupyter Notebook</td>\r\n",
    "  </tr>\r\n",
    "  <tr>\r\n",
    "    <td>Spyder</td>\r\n",
    "  </tr>\r\n",
    "  <tr>\r\n",
    "    <td>RStudio</td>\r\n",
    "  </tr>\r\n",
    "</table>"
   ]
  },
  {
   "cell_type": "markdown",
   "id": "5cdc640c-35a5-481d-a071-16cfc4339376",
   "metadata": {},
   "source": [
    "<h3>Below are a few examples of evaluating arithmetic expressions in Python</h3>"
   ]
  },
  {
   "cell_type": "code",
   "execution_count": 30,
   "id": "f586d6ea-be99-41ea-b4ad-68cb0ce9f52d",
   "metadata": {},
   "outputs": [
    {
     "data": {
      "text/plain": [
       "17"
      ]
     },
     "execution_count": 30,
     "metadata": {},
     "output_type": "execute_result"
    }
   ],
   "source": [
    "(3*4)+5 #This a simple arithmetic expression to mutiply then add integers"
   ]
  },
  {
   "cell_type": "code",
   "execution_count": 32,
   "id": "7ca19b8a-be43-4ab8-bdad-399f903cbad3",
   "metadata": {},
   "outputs": [
    {
     "data": {
      "text/plain": [
       "3.3333333333333335"
      ]
     },
     "execution_count": 32,
     "metadata": {},
     "output_type": "execute_result"
    }
   ],
   "source": [
    "200 / 60 #This will convert 200 minutes to hours by diving by 60"
   ]
  },
  {
   "cell_type": "markdown",
   "id": "ff95484d-f71d-448c-9c10-c6fdbb946b76",
   "metadata": {},
   "source": [
    "<h2>Author</h2>\n",
    "Tung Kieu"
   ]
  },
  {
   "cell_type": "code",
   "execution_count": null,
   "id": "19e3a31d-fc95-45c6-b288-1de8c9a51675",
   "metadata": {},
   "outputs": [],
   "source": []
  }
 ],
 "metadata": {
  "kernelspec": {
   "display_name": "Python 3 (ipykernel)",
   "language": "python",
   "name": "python3"
  },
  "language_info": {
   "codemirror_mode": {
    "name": "ipython",
    "version": 3
   },
   "file_extension": ".py",
   "mimetype": "text/x-python",
   "name": "python",
   "nbconvert_exporter": "python",
   "pygments_lexer": "ipython3",
   "version": "3.12.4"
  }
 },
 "nbformat": 4,
 "nbformat_minor": 5
}
