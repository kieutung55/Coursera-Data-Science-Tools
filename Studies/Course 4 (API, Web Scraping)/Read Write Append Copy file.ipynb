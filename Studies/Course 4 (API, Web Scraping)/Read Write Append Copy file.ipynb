{
 "cells": [
  {
   "cell_type": "code",
   "execution_count": 74,
   "id": "73134f58-2abd-453d-9e10-8638d5bc50c2",
   "metadata": {},
   "outputs": [
    {
     "data": {
      "text/plain": [
       "('Example1.txt', <http.client.HTTPMessage at 0x273ca7f9eb0>)"
      ]
     },
     "execution_count": 74,
     "metadata": {},
     "output_type": "execute_result"
    }
   ],
   "source": [
    "import urllib.request\n",
    "url = 'https://cf-courses-data.s3.us.cloud-object-storage.appdomain.cloud/IBMDeveloperSkillsNetwork-PY0101EN-SkillsNetwork/labs/Module%204/data/example1.txt'\n",
    "filename = 'Example1.txt'\n",
    "urllib.request.urlretrieve(url, filename)"
   ]
  },
  {
   "cell_type": "code",
   "execution_count": 80,
   "id": "2988a867-4fcc-4961-9240-9ae0f1d56254",
   "metadata": {},
   "outputs": [],
   "source": [
    "# Read the Example1.txt\n",
    "example1 = \"example1.txt\"\n",
    "file1 = open(example1, \"r\")"
   ]
  },
  {
   "cell_type": "code",
   "execution_count": 82,
   "id": "573a7262-0f1f-42f3-8719-776e5adf4097",
   "metadata": {},
   "outputs": [
    {
     "data": {
      "text/plain": [
       "'example1.txt'"
      ]
     },
     "execution_count": 82,
     "metadata": {},
     "output_type": "execute_result"
    }
   ],
   "source": [
    "file1.name\n"
   ]
  },
  {
   "cell_type": "code",
   "execution_count": 84,
   "id": "65315191-7038-4099-9350-0d24b70a07b8",
   "metadata": {},
   "outputs": [
    {
     "data": {
      "text/plain": [
       "'r'"
      ]
     },
     "execution_count": 84,
     "metadata": {},
     "output_type": "execute_result"
    }
   ],
   "source": [
    "file1.mode"
   ]
  },
  {
   "cell_type": "code",
   "execution_count": 87,
   "id": "6094d87e-a9ef-4ac2-86bb-04c61be4eec6",
   "metadata": {},
   "outputs": [
    {
     "data": {
      "text/plain": [
       "'This is line 1 \\nThis is line 2\\nThis is line 3'"
      ]
     },
     "execution_count": 87,
     "metadata": {},
     "output_type": "execute_result"
    }
   ],
   "source": [
    "FileContent = file1.read()\n",
    "FileContent"
   ]
  },
  {
   "cell_type": "code",
   "execution_count": 89,
   "id": "2a967cbf-7f8f-4e44-81df-c34632e7dbd4",
   "metadata": {},
   "outputs": [
    {
     "name": "stdout",
     "output_type": "stream",
     "text": [
      "This is line 1 \n",
      "This is line 2\n",
      "This is line 3\n"
     ]
    }
   ],
   "source": [
    "print(FileContent)"
   ]
  },
  {
   "cell_type": "code",
   "execution_count": 91,
   "id": "3dd09eaa-1715-49a8-b54d-9fc289dd9002",
   "metadata": {},
   "outputs": [
    {
     "data": {
      "text/plain": [
       "str"
      ]
     },
     "execution_count": 91,
     "metadata": {},
     "output_type": "execute_result"
    }
   ],
   "source": [
    "type(FileContent)"
   ]
  },
  {
   "cell_type": "code",
   "execution_count": 93,
   "id": "6c3ff8c1-072f-4885-8c2b-4bc8c595f7c1",
   "metadata": {},
   "outputs": [],
   "source": [
    "# Close file after finish\n",
    "\n",
    "file1.close()"
   ]
  },
  {
   "cell_type": "code",
   "execution_count": 121,
   "id": "de0260aa-9df5-4fd2-a520-9d409ddedbaf",
   "metadata": {},
   "outputs": [
    {
     "name": "stdout",
     "output_type": "stream",
     "text": [
      "This is line 1 \n",
      "This is line 2\n",
      "This is line 3\n"
     ]
    }
   ],
   "source": [
    "with open(example1,'r') as file1:\n",
    "    FileContent = file1.read()\n",
    "    print(FileContent)\n",
    "file1.close()"
   ]
  },
  {
   "cell_type": "code",
   "execution_count": 127,
   "id": "23ce4719-207d-4a07-a9ac-ca25b0f46792",
   "metadata": {},
   "outputs": [
    {
     "name": "stdout",
     "output_type": "stream",
     "text": [
      "This\n",
      " is \n",
      "line 1 \n",
      "\n",
      "This is line 2\n"
     ]
    }
   ],
   "source": [
    "with open(example1,\"r\")as file1:\n",
    "    print(file1.read(4))\n",
    "    print(file1.read(4))\n",
    "    print(file1.read(7))\n",
    "    print(file1.read(15))"
   ]
  },
  {
   "cell_type": "code",
   "execution_count": 139,
   "id": "5e7a0b39-1e0d-4187-95bd-1733a87a2b41",
   "metadata": {},
   "outputs": [
    {
     "name": "stdout",
     "output_type": "stream",
     "text": [
      "This is line 1 \n",
      "\n",
      "This \n",
      "is line 2\n"
     ]
    }
   ],
   "source": [
    "# Read certain amount of characters\n",
    "\n",
    "with open(example1, \"r\") as file1:\n",
    "    print(file1.read(16))\n",
    "    print(file1.read(5))\n",
    "    print(file1.read(9))"
   ]
  },
  {
   "cell_type": "code",
   "execution_count": 145,
   "id": "999e5cad-946d-4582-aa27-d68abeb79ddc",
   "metadata": {},
   "outputs": [
    {
     "name": "stdout",
     "output_type": "stream",
     "text": [
      "This is line 1 \n",
      "\n"
     ]
    }
   ],
   "source": [
    "## Read first line using .readline command,\n",
    "## the command # does not read past the end of line\n",
    "with open(example1,\"r\")as file1:\n",
    "    print(file1.readline())"
   ]
  },
  {
   "cell_type": "code",
   "execution_count": 159,
   "id": "1b7beaa9-9a14-47be-a6d1-2ac06c74a00e",
   "metadata": {},
   "outputs": [
    {
     "name": "stdout",
     "output_type": "stream",
     "text": [
      "Iteration 0 :  This is line 1 \n",
      "\n",
      "Iteration 1 :  This is line 2\n",
      "\n",
      "Iteration 2 :  This is line 3\n"
     ]
    }
   ],
   "source": [
    "with open(example1,\"r\") as file1:\n",
    "        i = 0;\n",
    "        for line in file1:\n",
    "            print(\"Iteration\", str(i), \": \", line)\n",
    "            i = i + 1"
   ]
  },
  {
   "cell_type": "code",
   "execution_count": 163,
   "id": "6a45ba87-de40-4ad5-83b1-b0f1d1990d2a",
   "metadata": {},
   "outputs": [],
   "source": [
    "# Read all lines and save as a list\n",
    "\n",
    "with open(example1, \"r\") as file1:\n",
    "    FileasList = file1.readlines()"
   ]
  },
  {
   "cell_type": "code",
   "execution_count": 165,
   "id": "abad778c-40b5-4892-a956-588f316c3635",
   "metadata": {},
   "outputs": [
    {
     "data": {
      "text/plain": [
       "'This is line 1 \\n'"
      ]
     },
     "execution_count": 165,
     "metadata": {},
     "output_type": "execute_result"
    }
   ],
   "source": [
    "FileasList[0]"
   ]
  },
  {
   "cell_type": "code",
   "execution_count": 189,
   "id": "b4f213ed-c2d2-4058-b316-36b2d0859922",
   "metadata": {},
   "outputs": [],
   "source": [
    "example2 = 'C:/Users/admin/Desktop/UH/Self Study/Jupyter Coursera/Example2.txt'\n",
    "with open(example2, \"w\") as writefile:\n",
    "    writefile.write(\"This is line A\")"
   ]
  },
  {
   "cell_type": "code",
   "execution_count": 203,
   "id": "73be48e5-d7b2-4cdc-bbb0-5931dbed943b",
   "metadata": {},
   "outputs": [
    {
     "name": "stdout",
     "output_type": "stream",
     "text": [
      "This is line A\n",
      "This is line B\n",
      "\n"
     ]
    }
   ],
   "source": [
    "with open(example2,'r') as testfile:\n",
    "    print(testfile.read())"
   ]
  },
  {
   "cell_type": "code",
   "execution_count": 201,
   "id": "dc9080d9-43a4-4a6c-b2a1-6d33157e8c66",
   "metadata": {},
   "outputs": [],
   "source": [
    "## Add more lines\n",
    "with open(example2,'w')as writefile:\n",
    "    writefile.write('This is line A\\n')\n",
    "    writefile.write('This is line B\\n')"
   ]
  },
  {
   "cell_type": "code",
   "execution_count": 205,
   "id": "29fa83be-b5bd-4b12-9b20-7deb9d368484",
   "metadata": {},
   "outputs": [
    {
     "data": {
      "text/plain": [
       "['This is line A\\n', 'This is line B\\n', 'This is line C\\n']"
      ]
     },
     "execution_count": 205,
     "metadata": {},
     "output_type": "execute_result"
    }
   ],
   "source": [
    "# Sample list of text\n",
    "\n",
    "Lines = [\"This is line A\\n\", \"This is line B\\n\", \"This is line C\\n\"]\n",
    "Lines"
   ]
  },
  {
   "cell_type": "code",
   "execution_count": 225,
   "id": "766684a2-8121-463b-8957-422e705a1b61",
   "metadata": {},
   "outputs": [
    {
     "name": "stdout",
     "output_type": "stream",
     "text": [
      "This is line A\n",
      "\n",
      "This is line B\n",
      "\n",
      "This is line C\n",
      "\n"
     ]
    }
   ],
   "source": [
    "## Write the list of texts into file\n",
    "with open(example2,'w') as writefile:\n",
    "    for lines in Lines:\n",
    "        writefile.write(lines)\n",
    "        print(lines)"
   ]
  },
  {
   "cell_type": "code",
   "execution_count": 211,
   "id": "ae9193e2-d628-4843-9957-bad82c431796",
   "metadata": {},
   "outputs": [],
   "source": [
    "## Note that setting the mode to w overwrites all the existing data in the file.\n"
   ]
  },
  {
   "cell_type": "code",
   "execution_count": 219,
   "id": "9e8e08f1-7e0f-4d27-a90b-0ce841c728d6",
   "metadata": {},
   "outputs": [],
   "source": [
    "with open (example2,'a') as testfile:\n",
    "    testfile.write(\"This is line D\\n\")\n",
    "    testfile.write(\"This is line E\\n\")"
   ]
  },
  {
   "cell_type": "code",
   "execution_count": 221,
   "id": "663c7016-f307-4898-9e16-217c54a09d2b",
   "metadata": {},
   "outputs": [
    {
     "name": "stdout",
     "output_type": "stream",
     "text": [
      "This is line A\n",
      "This is line B\n",
      "This is line C\n",
      "This is line D\n",
      "This is line D\n",
      "This is line E\n",
      "\n"
     ]
    }
   ],
   "source": [
    "with open(example2, 'r') as testfile:\n",
    "    print(testfile.read())"
   ]
  },
  {
   "cell_type": "raw",
   "id": "39a21056-d793-4dc6-806c-d3b60b5f3a93",
   "metadata": {},
   "source": [
    "It's fairly ineffecient to open the file in a or w and then reopening it in r to read any lines. Luckily we can access the file in the following modes:\r\n",
    "\r\n",
    "r+ : Reading and writing. Cannot truncate the file.\r\n",
    "w+ : Writing and reading. Truncates the file.\r\n",
    "a+ : Appending and Reading. Creates a new file, if none ex mode:"
   ]
  },
  {
   "cell_type": "code",
   "execution_count": 229,
   "id": "d61c8e03-d47b-4fdf-9b1d-2ba764bb8ec3",
   "metadata": {},
   "outputs": [],
   "source": [
    "example3 = 'C:/Users/admin/Desktop/UH/Self Study/Jupyter Coursera/Example3.txt'"
   ]
  },
  {
   "cell_type": "code",
   "execution_count": 233,
   "id": "a2336b1d-92dd-4669-a41e-2b53b3e633f9",
   "metadata": {},
   "outputs": [],
   "source": [
    "with open(example2, 'r') as readfile:\n",
    "    with open(example3,'w')as writefile:\n",
    "        for lines in readfile:\n",
    "            writefile.write(lines)"
   ]
  },
  {
   "cell_type": "code",
   "execution_count": 237,
   "id": "85c7cea6-97ee-48f1-81af-595e475bea3d",
   "metadata": {},
   "outputs": [
    {
     "name": "stdout",
     "output_type": "stream",
     "text": [
      "This is line A\n",
      "This is line B\n",
      "This is line C\n",
      "\n"
     ]
    }
   ],
   "source": [
    "with open (example3, 'r') as readfile:\n",
    "    print(readfile.read())"
   ]
  },
  {
   "cell_type": "code",
   "execution_count": null,
   "id": "b75fff9a-fca3-4cdd-a2c1-60a62a508223",
   "metadata": {},
   "outputs": [],
   "source": []
  }
 ],
 "metadata": {
  "kernelspec": {
   "display_name": "Python 3 (ipykernel)",
   "language": "python",
   "name": "python3"
  },
  "language_info": {
   "codemirror_mode": {
    "name": "ipython",
    "version": 3
   },
   "file_extension": ".py",
   "mimetype": "text/x-python",
   "name": "python",
   "nbconvert_exporter": "python",
   "pygments_lexer": "ipython3",
   "version": "3.12.4"
  }
 },
 "nbformat": 4,
 "nbformat_minor": 5
}
